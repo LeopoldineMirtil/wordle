{
 "cells": [
  {
   "cell_type": "code",
   "execution_count": null,
   "id": "0a297bc8",
   "metadata": {},
   "outputs": [],
   "source": [
    "import random\n",
    "\n",
    "def word_list():\n",
    "    with open(\"5_letter_words.txt\", \"r\") as file:\n",
    "        return [line.strip() for line in file]  \n",
    "        \n",
    "def random_word(x):\n",
    "    expected = random.choice(x)\n",
    "    return expected\n",
    "        \n",
    "def is_real_word(guess, x):  \n",
    "    return bool(guess in x)\n",
    "     \n",
    "def check_guess(guess, expected):\n",
    "    output = [\"_\"] * len(expected)\n",
    "\n",
    "    for index, (guess_letter, expected_letter) in enumerate(zip(guess, expected)):\n",
    "        if guess_letter == expected_letter:\n",
    "            output[index] = \"X\"\n",
    "            expected = expected.replace(guess_letter, \"_\", 1)\n",
    "    \n",
    "    for index, (guess_letter, expected_letter) in enumerate(zip(guess, expected)):\n",
    "        if guess_letter in expected and output[index] == \"_\":\n",
    "            output[index] = \"O\"\n",
    "            expected = expected.replace(guess_letter, \"_\", 1)\n",
    "\n",
    "    return ''.join(output)\n",
    "    \n",
    "def next_guess(x):\n",
    "    while True:\n",
    "        guess = input(\"Please enter a guess: \").lower() \n",
    "        if guess in x:\n",
    "            return guess\n",
    "        print(\"Invalid word. Please guess again\")\n",
    "        \n",
    "def play():\n",
    "    wordlist = word_list()\n",
    "    expected = random_word(wordlist)\n",
    "    for guessed in range(6):\n",
    "        guessed = next_guess(wordlist)\n",
    "        result = check_guess(guessed, expected)\n",
    "        print(result)\n",
    "        if result == \"XXXXX\":\n",
    "            print(\"You won!\")\n",
    "            return\n",
    "    print(\"You lost! \\nThe word was:\", expected)\n",
    "    \n",
    "play()"
   ]
  }
 ],
 "metadata": {
  "kernelspec": {
   "display_name": "Python 3 (ipykernel)",
   "language": "python",
   "name": "python3"
  },
  "language_info": {
   "codemirror_mode": {
    "name": "ipython",
    "version": 3
   },
   "file_extension": ".py",
   "mimetype": "text/x-python",
   "name": "python",
   "nbconvert_exporter": "python",
   "pygments_lexer": "ipython3",
   "version": "3.10.4"
  }
 },
 "nbformat": 4,
 "nbformat_minor": 5
}
